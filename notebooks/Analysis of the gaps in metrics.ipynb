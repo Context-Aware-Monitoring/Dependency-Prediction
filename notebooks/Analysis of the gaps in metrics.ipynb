{
 "cells": [
  {
   "cell_type": "code",
   "execution_count": 1,
   "metadata": {},
   "outputs": [],
   "source": [
    "import pandas as pd\n",
    "import matplotlib.pyplot as plt\n",
    "from datetime import datetime, timedelta\n",
    "import matplotlib.dates as mdates\n",
    "import math\n",
    "import numpy as np\n",
    "import pathlib\n",
    "import random\n",
    "%matplotlib inline\n",
    "\n",
    "linkSequentialData = 'data/sequential_data'\n",
    "path = pathlib.Path().absolute().parent / linkSequentialData / 'metrics'\n",
    "pathesMetrics = list(path.glob('*.csv'))\n",
    "\n",
    "nodes = {}\n",
    "nodes['link'] = pathesMetrics\n",
    "nodes['name'] = list(map(lambda x: x.name[:x.name.find('_')], nodes['link']))\n",
    "nodes['data'] = list(map(lambda x: pd.read_csv(x), nodes['link']))"
   ]
  },
  {
   "cell_type": "code",
   "execution_count": 2,
   "metadata": {},
   "outputs": [],
   "source": [
    "timeStart = datetime.strptime('2019-11-19 18:38:39', '%Y-%m-%d %H:%M:%S')\n",
    "timeEnd = datetime.strptime('2019-11-20 02:30:00', '%Y-%m-%d %H:%M:%S')\n",
    "\n",
    "nodes['dataExperiment'] = []\n",
    "\n",
    "for i in range(len(nodes['data'])):\n",
    "    # convert string to timestamp\n",
    "    nodes['data'][i]['now'] = nodes['data'][i]['now'].map(lambda x: datetime.strptime(str(x), '%Y-%m-%d %H:%M:%S CEST'))\n",
    "    # filter out the timestamps that are outside of the experiment\n",
    "    nodes['dataExperiment'].append(nodes['data'][i][(nodes['data'][i]['now'] >= timeStart) & (nodes['data'][i]['now'] <= timeEnd)])   "
   ]
  },
  {
   "cell_type": "code",
   "execution_count": 3,
   "metadata": {},
   "outputs": [
    {
     "name": "stdout",
     "output_type": "stream",
     "text": [
      "Size of metrics wally122 = 46568\n",
      "Size of metrics wally113 = 26228\n",
      "Size of metrics wally124 = 47518\n",
      "Size of metrics wally123 = 42831\n",
      "Size of metrics wally117 = 51614\n"
     ]
    }
   ],
   "source": [
    "for i in range(len(nodes['dataExperiment'])):\n",
    "    print('Size of metrics', nodes['name'][i], '=', nodes['dataExperiment'][i]['now'].size)"
   ]
  },
  {
   "cell_type": "code",
   "execution_count": 4,
   "metadata": {},
   "outputs": [],
   "source": [
    "# calculation the mean values for each timestamp \n",
    "for i in range(len(nodes['dataExperiment'])):\n",
    "    nodes['dataExperiment'][i] = nodes['dataExperiment'][i].groupby('now').mean().reset_index()"
   ]
  },
  {
   "cell_type": "code",
   "execution_count": 5,
   "metadata": {},
   "outputs": [
    {
     "name": "stdout",
     "output_type": "stream",
     "text": [
      "Size of metrics wally122 after averaging = 28279\n",
      "Size of metrics wally113 after averaging = 23206\n",
      "Size of metrics wally124 after averaging = 28280\n",
      "Size of metrics wally123 after averaging = 28280\n",
      "Size of metrics wally117 after averaging = 28280\n"
     ]
    }
   ],
   "source": [
    "for i in range(len(nodes['dataExperiment'])):\n",
    "    print('Size of metrics', nodes['name'][i], 'after averaging =', nodes['dataExperiment'][i]['now'].size)"
   ]
  },
  {
   "cell_type": "code",
   "execution_count": 6,
   "metadata": {},
   "outputs": [],
   "source": [
    "# create array of all gaps in metrics\n",
    "nodes['gaps'] = []\n",
    "for data in nodes['dataExperiment']:\n",
    "    data['gap'] = (data['now'].diff()).dt.seconds > 1\n",
    "    gaps = []\n",
    "    timestampsAfterGaps = list(data[data['gap']]['now'])\n",
    "    for e in timestampsAfterGaps:\n",
    "        s = list(data[data['now'] < e].tail(1)['now'])\n",
    "        g = pd.date_range(s[0], e, freq = 'S')\n",
    "        g.freq = None\n",
    "        g = list(g)\n",
    "        gaps += g[1:-1]\n",
    "    nodes['gaps'].append(gaps)        "
   ]
  },
  {
   "cell_type": "code",
   "execution_count": 7,
   "metadata": {},
   "outputs": [
    {
     "name": "stdout",
     "output_type": "stream",
     "text": [
      "Number of gaps in wally122 = 3\n",
      "Number of gaps in wally113 = 5076\n",
      "Number of gaps in wally124 = 2\n",
      "Number of gaps in wally123 = 2\n",
      "Number of gaps in wally117 = 2\n"
     ]
    }
   ],
   "source": [
    "for i in range(len(nodes['gaps'])):\n",
    "    print('Number of gaps in', nodes['name'][i],'=', len(nodes['gaps'][i]))"
   ]
  },
  {
   "cell_type": "code",
   "execution_count": null,
   "metadata": {
    "scrolled": true
   },
   "outputs": [],
   "source": [
    "# plotting the distribution of gaps\n",
    "allTimestamps = list(pd.date_range(timeStart, timeEnd, freq = 'S'))\n",
    "\n",
    "fig, axes = plt.subplots(len(nodes['gaps']), 1, figsize=(20, 20))\n",
    "\n",
    "#size = round((28282) ** (1. / 3) * 2) #Rice’s Rule\n",
    "#size = round(28282 / 60)\n",
    "size = round(math.sqrt(len(allTimestamps)))\n",
    "\n",
    "for i in range(len(nodes['gaps'])):\n",
    "    axes[i].hist(nodes['gaps'][i], bins = size)\n",
    "    axes[i].set_title(nodes['name'][i], fontsize = 15)\n",
    "    \n",
    "plt.subplots_adjust(top = 1.2)\n",
    "myFmt = mdates.DateFormatter('%H:%M:%S')\n",
    "for ax in fig.axes:\n",
    "    plt.sca(ax)\n",
    "    plt.xticks(list(pd.date_range(timeStart, timeEnd, freq = '1800S')))\n",
    "    plt.gca().xaxis.set_major_formatter(myFmt)\n",
    "\n",
    "plt.show()"
   ]
  },
  {
   "cell_type": "code",
   "execution_count": null,
   "metadata": {
    "scrolled": true
   },
   "outputs": [],
   "source": [
    "# calculation the max duration for all nodes\n",
    "nodes['twoGapsForPlot'] = []\n",
    "i = 0\n",
    "while i < len(nodes['gaps']):\n",
    "    m1, m2 = 1, 1\n",
    "    m1Time, m2Time = nodes['gaps'][i][0], nodes['gaps'][i][0]\n",
    "    j = 0\n",
    "    while j <= (len(nodes['gaps'][i]) - 1):\n",
    "        k = 1\n",
    "        while (j + k < len(nodes['gaps'][i])) and ((nodes['gaps'][i][j] + timedelta(seconds = k)) == nodes['gaps'][i][j + k]):\n",
    "            k += 1\n",
    "        if k >= m1:\n",
    "            if m1 > m2:\n",
    "                m2 = m1\n",
    "                m2Time = m1Time\n",
    "            else: \n",
    "                m1 = k\n",
    "                m1Time = nodes['gaps'][i][j]\n",
    "        j += k\n",
    "    nodes['twoGapsForPlot'].append([(m2, m2Time), (m1, m1Time)])\n",
    "    i += 1           "
   ]
  },
  {
   "cell_type": "code",
   "execution_count": null,
   "metadata": {},
   "outputs": [],
   "source": [
    "for i in range(len(nodes['gaps'])):\n",
    "    print('The max duration of gaps in', nodes['name'][i],'=', nodes['twoGapsForPlot'][i][-1][0], 'second(-s)')"
   ]
  },
  {
   "cell_type": "code",
   "execution_count": null,
   "metadata": {},
   "outputs": [],
   "source": [
    "# autoscaling of y-axis based on the data\n",
    "def autoscaleY(ax, xlim, margin = 0.1):\n",
    "\n",
    "    def getYlim(line):\n",
    "        xd = line.get_xdata()\n",
    "        yd = line.get_ydata()\n",
    "        lo, hi  = xlim[0], xlim[-1]\n",
    "        newYd = yd[((xd >= lo) & (xd <= hi))]\n",
    "        h = np.max(newYd) - np.min(newYd)\n",
    "        bot = np.min(newYd) - margin * h\n",
    "        top = np.max(newYd) + margin * h\n",
    "        return bot,top\n",
    "\n",
    "    lines = ax.get_lines()\n",
    "    bot, top = np.inf, -np.inf\n",
    "\n",
    "    for line in lines:\n",
    "        newBot, newTop = getYlim(line)\n",
    "        if newBot < bot: bot = newBot\n",
    "        if newTop > top: top = newTop\n",
    "\n",
    "    ax.set_ylim(bot * 0.95, top * 1.05)\n"
   ]
  },
  {
   "cell_type": "code",
   "execution_count": null,
   "metadata": {
    "scrolled": false
   },
   "outputs": [],
   "source": [
    "# plotting the load.min1, load.min2 and load.min15 for two gaps\n",
    "def plotLoads(axrow, data, xlims):\n",
    "    for i in range(numberOfGaps):\n",
    "        axrow[i].plot('now', 'load.min1', 'bo', label = 'load.min1', data = data)\n",
    "        axrow[i].plot('now', 'load.min5', 'yo', label = 'load.min5', data = data)\n",
    "        axrow[i].plot('now', 'load.min15', 'co', label = 'load.min15', data = data)\n",
    "        axrow[i].legend()\n",
    "        axrow[i].set_xlim(xlims[i])\n",
    "        g = xlims[i][0] + timedelta(seconds = 5)\n",
    "        axrow[i].set_xlabel(g.date(), fontsize = 12)\n",
    "        autoscaleY(axrow[i], xlims[i])\n",
    "    \n",
    "# plotting the cpu.user or mem.used for two gaps\n",
    "def plotCpuOrMem(feature, axrow, data, xlims):\n",
    "    for i in range(numberOfGaps):\n",
    "        axrow[i].plot('now', feature, 'bo', label = feature, data = data)\n",
    "        axrow[i].legend()\n",
    "        axrow[i].set_xlim(xlims[i])\n",
    "        g = xlims[i][0] + timedelta(seconds = 5)\n",
    "        axrow[i].set_xlabel(g.date(), fontsize = 12)\n",
    "        autoscaleY(axrow[i], xlims[i])\n",
    "    \n",
    "numberOfGaps = 2\n",
    "fig, axes = plt.subplots(len(nodes['dataExperiment']) * 3, numberOfGaps)\n",
    "\n",
    "j = 0\n",
    "for i in range(0, len(axes), 3):\n",
    "    twoXlims = [[nodes['twoGapsForPlot'][j][0][1] - timedelta(seconds = 5), \n",
    "                nodes['twoGapsForPlot'][j][0][1] + timedelta(seconds = 5)], \n",
    "                [nodes['twoGapsForPlot'][j][1][1] - timedelta(seconds = 5), \n",
    "                nodes['twoGapsForPlot'][j][1][1] + timedelta(seconds = 5)]]\n",
    "    axes[i, 0].set_title(nodes['name'][j], fontsize = 18, x = 1.1)\n",
    "    plotLoads(axes[i], nodes['dataExperiment'][j], twoXlims)\n",
    "    plotCpuOrMem('cpu.user', axes[i + 1], nodes['dataExperiment'][j], twoXlims)\n",
    "    plotCpuOrMem('mem.used', axes[i + 2], nodes['dataExperiment'][j], twoXlims)\n",
    "    j += 1\n",
    "\n",
    "plt.subplots_adjust(top = 20, right = 2.5)\n",
    "\n",
    "for ax in fig.axes:\n",
    "    plt.sca(ax)\n",
    "    plt.xticks(rotation = 30)\n",
    "\n",
    "plt.show()\n"
   ]
  },
  {
   "cell_type": "code",
   "execution_count": null,
   "metadata": {},
   "outputs": [],
   "source": []
  }
 ],
 "metadata": {
  "kernelspec": {
   "display_name": "Python 3",
   "language": "python",
   "name": "python3"
  },
  "language_info": {
   "codemirror_mode": {
    "name": "ipython",
    "version": 3
   },
   "file_extension": ".py",
   "mimetype": "text/x-python",
   "name": "python",
   "nbconvert_exporter": "python",
   "pygments_lexer": "ipython3",
   "version": "3.9.0"
  }
 },
 "nbformat": 4,
 "nbformat_minor": 4
}
