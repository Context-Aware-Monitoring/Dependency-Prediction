{
 "cells": [
  {
   "cell_type": "code",
   "execution_count": 1,
   "metadata": {
    "scrolled": true
   },
   "outputs": [],
   "source": [
    "import pandas as pd\n",
    "import matplotlib.pyplot as plt\n",
    "import numpy as np\n",
    "import math\n",
    "%matplotlib inline"
   ]
  },
  {
   "cell_type": "code",
   "execution_count": 2,
   "metadata": {},
   "outputs": [
    {
     "data": {
      "text/html": [
       "<div>\n",
       "<style scoped>\n",
       "    .dataframe tbody tr th:only-of-type {\n",
       "        vertical-align: middle;\n",
       "    }\n",
       "\n",
       "    .dataframe tbody tr th {\n",
       "        vertical-align: top;\n",
       "    }\n",
       "\n",
       "    .dataframe thead th {\n",
       "        text-align: right;\n",
       "    }\n",
       "</style>\n",
       "<table border=\"1\" class=\"dataframe\">\n",
       "  <thead>\n",
       "    <tr style=\"text-align: right;\">\n",
       "      <th></th>\n",
       "      <th>now</th>\n",
       "      <th>cpu.user</th>\n",
       "      <th>mem.used</th>\n",
       "      <th>load.cpucore</th>\n",
       "      <th>load.min1</th>\n",
       "      <th>load.min5</th>\n",
       "      <th>load.min15</th>\n",
       "    </tr>\n",
       "  </thead>\n",
       "  <tbody>\n",
       "    <tr>\n",
       "      <th>0</th>\n",
       "      <td>2019-11-19 16:33:05 CEST</td>\n",
       "      <td>16.1</td>\n",
       "      <td>2917302272</td>\n",
       "      <td>8</td>\n",
       "      <td>0.31</td>\n",
       "      <td>0.82</td>\n",
       "      <td>1.22</td>\n",
       "    </tr>\n",
       "    <tr>\n",
       "      <th>1</th>\n",
       "      <td>2019-11-19 16:33:05 CEST</td>\n",
       "      <td>23.2</td>\n",
       "      <td>2925170688</td>\n",
       "      <td>8</td>\n",
       "      <td>0.31</td>\n",
       "      <td>0.82</td>\n",
       "      <td>1.22</td>\n",
       "    </tr>\n",
       "    <tr>\n",
       "      <th>2</th>\n",
       "      <td>2019-11-19 16:33:06 CEST</td>\n",
       "      <td>10.9</td>\n",
       "      <td>2923724800</td>\n",
       "      <td>8</td>\n",
       "      <td>0.31</td>\n",
       "      <td>0.82</td>\n",
       "      <td>1.22</td>\n",
       "    </tr>\n",
       "    <tr>\n",
       "      <th>3</th>\n",
       "      <td>2019-11-19 16:33:06 CEST</td>\n",
       "      <td>11.6</td>\n",
       "      <td>2924593152</td>\n",
       "      <td>8</td>\n",
       "      <td>0.31</td>\n",
       "      <td>0.82</td>\n",
       "      <td>1.22</td>\n",
       "    </tr>\n",
       "    <tr>\n",
       "      <th>4</th>\n",
       "      <td>2019-11-19 16:33:06 CEST</td>\n",
       "      <td>11.7</td>\n",
       "      <td>2924658688</td>\n",
       "      <td>8</td>\n",
       "      <td>0.31</td>\n",
       "      <td>0.82</td>\n",
       "      <td>1.22</td>\n",
       "    </tr>\n",
       "  </tbody>\n",
       "</table>\n",
       "</div>"
      ],
      "text/plain": [
       "                        now  cpu.user    mem.used  load.cpucore  load.min1  \\\n",
       "0  2019-11-19 16:33:05 CEST      16.1  2917302272             8       0.31   \n",
       "1  2019-11-19 16:33:05 CEST      23.2  2925170688             8       0.31   \n",
       "2  2019-11-19 16:33:06 CEST      10.9  2923724800             8       0.31   \n",
       "3  2019-11-19 16:33:06 CEST      11.6  2924593152             8       0.31   \n",
       "4  2019-11-19 16:33:06 CEST      11.7  2924658688             8       0.31   \n",
       "\n",
       "   load.min5  load.min15  \n",
       "0       0.82        1.22  \n",
       "1       0.82        1.22  \n",
       "2       0.82        1.22  \n",
       "3       0.82        1.22  \n",
       "4       0.82        1.22  "
      ]
     },
     "execution_count": 2,
     "metadata": {},
     "output_type": "execute_result"
    }
   ],
   "source": [
    "data_117 = pd.read_csv(\"sequential_data/metrics/wally117_metrics.csv\")\n",
    "\n",
    "data_117.head()"
   ]
  },
  {
   "cell_type": "code",
   "execution_count": 3,
   "metadata": {},
   "outputs": [
    {
     "data": {
      "text/html": [
       "<div>\n",
       "<style scoped>\n",
       "    .dataframe tbody tr th:only-of-type {\n",
       "        vertical-align: middle;\n",
       "    }\n",
       "\n",
       "    .dataframe tbody tr th {\n",
       "        vertical-align: top;\n",
       "    }\n",
       "\n",
       "    .dataframe thead th {\n",
       "        text-align: right;\n",
       "    }\n",
       "</style>\n",
       "<table border=\"1\" class=\"dataframe\">\n",
       "  <thead>\n",
       "    <tr style=\"text-align: right;\">\n",
       "      <th></th>\n",
       "      <th>now</th>\n",
       "      <th>cpu.user</th>\n",
       "      <th>mem.used</th>\n",
       "      <th>load.cpucore</th>\n",
       "      <th>load.min1</th>\n",
       "      <th>load.min5</th>\n",
       "      <th>load.min15</th>\n",
       "    </tr>\n",
       "  </thead>\n",
       "  <tbody>\n",
       "    <tr>\n",
       "      <th>0</th>\n",
       "      <td>2019-11-19 16:36:51 CEST</td>\n",
       "      <td>12.4</td>\n",
       "      <td>1973506048</td>\n",
       "      <td>8</td>\n",
       "      <td>0.22</td>\n",
       "      <td>0.91</td>\n",
       "      <td>1.21</td>\n",
       "    </tr>\n",
       "    <tr>\n",
       "      <th>1</th>\n",
       "      <td>2019-11-19 16:36:51 CEST</td>\n",
       "      <td>14.3</td>\n",
       "      <td>1973768192</td>\n",
       "      <td>8</td>\n",
       "      <td>0.22</td>\n",
       "      <td>0.91</td>\n",
       "      <td>1.21</td>\n",
       "    </tr>\n",
       "    <tr>\n",
       "      <th>2</th>\n",
       "      <td>2019-11-19 16:36:52 CEST</td>\n",
       "      <td>19.7</td>\n",
       "      <td>1980469248</td>\n",
       "      <td>8</td>\n",
       "      <td>0.22</td>\n",
       "      <td>0.91</td>\n",
       "      <td>1.21</td>\n",
       "    </tr>\n",
       "    <tr>\n",
       "      <th>3</th>\n",
       "      <td>2019-11-19 16:36:52 CEST</td>\n",
       "      <td>10.6</td>\n",
       "      <td>1981747200</td>\n",
       "      <td>8</td>\n",
       "      <td>0.22</td>\n",
       "      <td>0.91</td>\n",
       "      <td>1.21</td>\n",
       "    </tr>\n",
       "    <tr>\n",
       "      <th>4</th>\n",
       "      <td>2019-11-19 16:36:52 CEST</td>\n",
       "      <td>12.8</td>\n",
       "      <td>1981124608</td>\n",
       "      <td>8</td>\n",
       "      <td>0.22</td>\n",
       "      <td>0.91</td>\n",
       "      <td>1.21</td>\n",
       "    </tr>\n",
       "  </tbody>\n",
       "</table>\n",
       "</div>"
      ],
      "text/plain": [
       "                        now  cpu.user    mem.used  load.cpucore  load.min1  \\\n",
       "0  2019-11-19 16:36:51 CEST      12.4  1973506048             8       0.22   \n",
       "1  2019-11-19 16:36:51 CEST      14.3  1973768192             8       0.22   \n",
       "2  2019-11-19 16:36:52 CEST      19.7  1980469248             8       0.22   \n",
       "3  2019-11-19 16:36:52 CEST      10.6  1981747200             8       0.22   \n",
       "4  2019-11-19 16:36:52 CEST      12.8  1981124608             8       0.22   \n",
       "\n",
       "   load.min5  load.min15  \n",
       "0       0.91        1.21  \n",
       "1       0.91        1.21  \n",
       "2       0.91        1.21  \n",
       "3       0.91        1.21  \n",
       "4       0.91        1.21  "
      ]
     },
     "execution_count": 3,
     "metadata": {},
     "output_type": "execute_result"
    }
   ],
   "source": [
    "data_122 = pd.read_csv(\"sequential_data/metrics/wally122_metrics.csv\")\n",
    "\n",
    "data_122.head()"
   ]
  },
  {
   "cell_type": "code",
   "execution_count": 4,
   "metadata": {
    "scrolled": true
   },
   "outputs": [
    {
     "data": {
      "text/html": [
       "<div>\n",
       "<style scoped>\n",
       "    .dataframe tbody tr th:only-of-type {\n",
       "        vertical-align: middle;\n",
       "    }\n",
       "\n",
       "    .dataframe tbody tr th {\n",
       "        vertical-align: top;\n",
       "    }\n",
       "\n",
       "    .dataframe thead th {\n",
       "        text-align: right;\n",
       "    }\n",
       "</style>\n",
       "<table border=\"1\" class=\"dataframe\">\n",
       "  <thead>\n",
       "    <tr style=\"text-align: right;\">\n",
       "      <th></th>\n",
       "      <th>now</th>\n",
       "      <th>cpu.user</th>\n",
       "      <th>mem.used</th>\n",
       "      <th>load.cpucore</th>\n",
       "      <th>load.min1</th>\n",
       "      <th>load.min5</th>\n",
       "      <th>load.min15</th>\n",
       "    </tr>\n",
       "  </thead>\n",
       "  <tbody>\n",
       "    <tr>\n",
       "      <th>0</th>\n",
       "      <td>2019-11-19 16:43:28 CEST</td>\n",
       "      <td>9.9</td>\n",
       "      <td>1888342016</td>\n",
       "      <td>8</td>\n",
       "      <td>0.4</td>\n",
       "      <td>1.04</td>\n",
       "      <td>1.31</td>\n",
       "    </tr>\n",
       "    <tr>\n",
       "      <th>1</th>\n",
       "      <td>2019-11-19 16:43:28 CEST</td>\n",
       "      <td>11.5</td>\n",
       "      <td>1889329152</td>\n",
       "      <td>8</td>\n",
       "      <td>0.4</td>\n",
       "      <td>1.04</td>\n",
       "      <td>1.31</td>\n",
       "    </tr>\n",
       "    <tr>\n",
       "      <th>2</th>\n",
       "      <td>2019-11-19 16:43:28 CEST</td>\n",
       "      <td>13.0</td>\n",
       "      <td>1889071104</td>\n",
       "      <td>8</td>\n",
       "      <td>0.4</td>\n",
       "      <td>1.04</td>\n",
       "      <td>1.31</td>\n",
       "    </tr>\n",
       "    <tr>\n",
       "      <th>3</th>\n",
       "      <td>2019-11-19 16:43:28 CEST</td>\n",
       "      <td>18.0</td>\n",
       "      <td>1894617088</td>\n",
       "      <td>8</td>\n",
       "      <td>0.4</td>\n",
       "      <td>1.04</td>\n",
       "      <td>1.31</td>\n",
       "    </tr>\n",
       "    <tr>\n",
       "      <th>4</th>\n",
       "      <td>2019-11-19 16:43:29 CEST</td>\n",
       "      <td>18.4</td>\n",
       "      <td>1895440384</td>\n",
       "      <td>8</td>\n",
       "      <td>0.4</td>\n",
       "      <td>1.04</td>\n",
       "      <td>1.31</td>\n",
       "    </tr>\n",
       "  </tbody>\n",
       "</table>\n",
       "</div>"
      ],
      "text/plain": [
       "                        now  cpu.user    mem.used  load.cpucore  load.min1  \\\n",
       "0  2019-11-19 16:43:28 CEST       9.9  1888342016             8        0.4   \n",
       "1  2019-11-19 16:43:28 CEST      11.5  1889329152             8        0.4   \n",
       "2  2019-11-19 16:43:28 CEST      13.0  1889071104             8        0.4   \n",
       "3  2019-11-19 16:43:28 CEST      18.0  1894617088             8        0.4   \n",
       "4  2019-11-19 16:43:29 CEST      18.4  1895440384             8        0.4   \n",
       "\n",
       "   load.min5  load.min15  \n",
       "0       1.04        1.31  \n",
       "1       1.04        1.31  \n",
       "2       1.04        1.31  \n",
       "3       1.04        1.31  \n",
       "4       1.04        1.31  "
      ]
     },
     "execution_count": 4,
     "metadata": {},
     "output_type": "execute_result"
    }
   ],
   "source": [
    "data_124 = pd.read_csv(\"sequential_data/metrics/wally124_metrics.csv\")\n",
    "\n",
    "data_124.head()"
   ]
  },
  {
   "cell_type": "code",
   "execution_count": 5,
   "metadata": {},
   "outputs": [
    {
     "data": {
      "text/html": [
       "<div>\n",
       "<style scoped>\n",
       "    .dataframe tbody tr th:only-of-type {\n",
       "        vertical-align: middle;\n",
       "    }\n",
       "\n",
       "    .dataframe tbody tr th {\n",
       "        vertical-align: top;\n",
       "    }\n",
       "\n",
       "    .dataframe thead th {\n",
       "        text-align: right;\n",
       "    }\n",
       "</style>\n",
       "<table border=\"1\" class=\"dataframe\">\n",
       "  <thead>\n",
       "    <tr style=\"text-align: right;\">\n",
       "      <th></th>\n",
       "      <th>now</th>\n",
       "      <th>cpu.user</th>\n",
       "      <th>mem.used</th>\n",
       "      <th>load.cpucore</th>\n",
       "      <th>load.min1</th>\n",
       "      <th>load.min5</th>\n",
       "      <th>load.min15</th>\n",
       "    </tr>\n",
       "  </thead>\n",
       "  <tbody>\n",
       "    <tr>\n",
       "      <th>0</th>\n",
       "      <td>2019-11-19 16:46:17 CEST</td>\n",
       "      <td>20.1</td>\n",
       "      <td>2383872000</td>\n",
       "      <td>8</td>\n",
       "      <td>1.59</td>\n",
       "      <td>1.57</td>\n",
       "      <td>1.49</td>\n",
       "    </tr>\n",
       "    <tr>\n",
       "      <th>1</th>\n",
       "      <td>2019-11-19 16:46:17 CEST</td>\n",
       "      <td>25.6</td>\n",
       "      <td>2383962112</td>\n",
       "      <td>8</td>\n",
       "      <td>1.59</td>\n",
       "      <td>1.57</td>\n",
       "      <td>1.49</td>\n",
       "    </tr>\n",
       "    <tr>\n",
       "      <th>2</th>\n",
       "      <td>2019-11-19 16:46:18 CEST</td>\n",
       "      <td>23.4</td>\n",
       "      <td>2384277504</td>\n",
       "      <td>8</td>\n",
       "      <td>1.59</td>\n",
       "      <td>1.57</td>\n",
       "      <td>1.49</td>\n",
       "    </tr>\n",
       "    <tr>\n",
       "      <th>3</th>\n",
       "      <td>2019-11-19 16:46:18 CEST</td>\n",
       "      <td>22.8</td>\n",
       "      <td>2383347712</td>\n",
       "      <td>8</td>\n",
       "      <td>1.59</td>\n",
       "      <td>1.57</td>\n",
       "      <td>1.49</td>\n",
       "    </tr>\n",
       "    <tr>\n",
       "      <th>4</th>\n",
       "      <td>2019-11-19 16:46:18 CEST</td>\n",
       "      <td>31.9</td>\n",
       "      <td>2382991360</td>\n",
       "      <td>8</td>\n",
       "      <td>1.59</td>\n",
       "      <td>1.57</td>\n",
       "      <td>1.49</td>\n",
       "    </tr>\n",
       "  </tbody>\n",
       "</table>\n",
       "</div>"
      ],
      "text/plain": [
       "                        now  cpu.user    mem.used  load.cpucore  load.min1  \\\n",
       "0  2019-11-19 16:46:17 CEST      20.1  2383872000             8       1.59   \n",
       "1  2019-11-19 16:46:17 CEST      25.6  2383962112             8       1.59   \n",
       "2  2019-11-19 16:46:18 CEST      23.4  2384277504             8       1.59   \n",
       "3  2019-11-19 16:46:18 CEST      22.8  2383347712             8       1.59   \n",
       "4  2019-11-19 16:46:18 CEST      31.9  2382991360             8       1.59   \n",
       "\n",
       "   load.min5  load.min15  \n",
       "0       1.57        1.49  \n",
       "1       1.57        1.49  \n",
       "2       1.57        1.49  \n",
       "3       1.57        1.49  \n",
       "4       1.57        1.49  "
      ]
     },
     "execution_count": 5,
     "metadata": {},
     "output_type": "execute_result"
    }
   ],
   "source": [
    "data_123 = pd.read_csv(\"sequential_data/metrics/wally123_metrics.csv\")\n",
    "\n",
    "data_123.head()"
   ]
  },
  {
   "cell_type": "code",
   "execution_count": 6,
   "metadata": {},
   "outputs": [
    {
     "data": {
      "text/html": [
       "<div>\n",
       "<style scoped>\n",
       "    .dataframe tbody tr th:only-of-type {\n",
       "        vertical-align: middle;\n",
       "    }\n",
       "\n",
       "    .dataframe tbody tr th {\n",
       "        vertical-align: top;\n",
       "    }\n",
       "\n",
       "    .dataframe thead th {\n",
       "        text-align: right;\n",
       "    }\n",
       "</style>\n",
       "<table border=\"1\" class=\"dataframe\">\n",
       "  <thead>\n",
       "    <tr style=\"text-align: right;\">\n",
       "      <th></th>\n",
       "      <th>now</th>\n",
       "      <th>cpu.user</th>\n",
       "      <th>mem.used</th>\n",
       "      <th>load.cpucore</th>\n",
       "      <th>load.min1</th>\n",
       "      <th>load.min5</th>\n",
       "      <th>load.min15</th>\n",
       "    </tr>\n",
       "  </thead>\n",
       "  <tbody>\n",
       "    <tr>\n",
       "      <th>0</th>\n",
       "      <td>2019-11-19 16:56:32 CEST</td>\n",
       "      <td>11.5</td>\n",
       "      <td>10221035520</td>\n",
       "      <td>8</td>\n",
       "      <td>0.8</td>\n",
       "      <td>1.02</td>\n",
       "      <td>1.18</td>\n",
       "    </tr>\n",
       "    <tr>\n",
       "      <th>1</th>\n",
       "      <td>2019-11-19 16:56:32 CEST</td>\n",
       "      <td>10.4</td>\n",
       "      <td>10221117440</td>\n",
       "      <td>8</td>\n",
       "      <td>0.8</td>\n",
       "      <td>1.02</td>\n",
       "      <td>1.18</td>\n",
       "    </tr>\n",
       "    <tr>\n",
       "      <th>2</th>\n",
       "      <td>2019-11-19 16:56:33 CEST</td>\n",
       "      <td>11.1</td>\n",
       "      <td>10222948352</td>\n",
       "      <td>8</td>\n",
       "      <td>0.8</td>\n",
       "      <td>1.02</td>\n",
       "      <td>1.18</td>\n",
       "    </tr>\n",
       "    <tr>\n",
       "      <th>3</th>\n",
       "      <td>2019-11-19 16:56:33 CEST</td>\n",
       "      <td>14.3</td>\n",
       "      <td>10223144960</td>\n",
       "      <td>8</td>\n",
       "      <td>0.8</td>\n",
       "      <td>1.02</td>\n",
       "      <td>1.18</td>\n",
       "    </tr>\n",
       "    <tr>\n",
       "      <th>4</th>\n",
       "      <td>2019-11-19 16:56:34 CEST</td>\n",
       "      <td>10.7</td>\n",
       "      <td>10222866432</td>\n",
       "      <td>8</td>\n",
       "      <td>0.8</td>\n",
       "      <td>1.02</td>\n",
       "      <td>1.18</td>\n",
       "    </tr>\n",
       "  </tbody>\n",
       "</table>\n",
       "</div>"
      ],
      "text/plain": [
       "                        now  cpu.user     mem.used  load.cpucore  load.min1  \\\n",
       "0  2019-11-19 16:56:32 CEST      11.5  10221035520             8        0.8   \n",
       "1  2019-11-19 16:56:32 CEST      10.4  10221117440             8        0.8   \n",
       "2  2019-11-19 16:56:33 CEST      11.1  10222948352             8        0.8   \n",
       "3  2019-11-19 16:56:33 CEST      14.3  10223144960             8        0.8   \n",
       "4  2019-11-19 16:56:34 CEST      10.7  10222866432             8        0.8   \n",
       "\n",
       "   load.min5  load.min15  \n",
       "0       1.02        1.18  \n",
       "1       1.02        1.18  \n",
       "2       1.02        1.18  \n",
       "3       1.02        1.18  \n",
       "4       1.02        1.18  "
      ]
     },
     "execution_count": 6,
     "metadata": {},
     "output_type": "execute_result"
    }
   ],
   "source": [
    "data_113 = pd.read_csv(\"sequential_data/metrics/wally113_metrics.csv\")\n",
    "\n",
    "data_113.head()"
   ]
  },
  {
   "cell_type": "code",
   "execution_count": 7,
   "metadata": {},
   "outputs": [
    {
     "name": "stdout",
     "output_type": "stream",
     "text": [
      "size of metrics 117 =  298251\n",
      "size of metrics 122 =  270771\n",
      "size of metrics 124 =  270304\n",
      "size of metrics 123 =  247411\n",
      "size of metrics 113 =  108900\n"
     ]
    }
   ],
   "source": [
    "print(\"size of metrics 117 = \", data_117['now'].size)\n",
    "print(\"size of metrics 122 = \", data_122['now'].size)\n",
    "print(\"size of metrics 124 = \", data_124['now'].size)\n",
    "print(\"size of metrics 123 = \", data_123['now'].size)\n",
    "print(\"size of metrics 113 = \", data_113['now'].size)"
   ]
  },
  {
   "cell_type": "code",
   "execution_count": 8,
   "metadata": {},
   "outputs": [],
   "source": [
    "from datetime import datetime\n",
    "import matplotlib.dates as mdates\n",
    "\n",
    "data_117['now'] = data_117['now'].map(lambda x: datetime.strptime(str(x), '%Y-%m-%d %H:%M:%S CEST'))\n",
    "data_122['now'] = data_122['now'].map(lambda x: datetime.strptime(str(x), '%Y-%m-%d %H:%M:%S CEST'))\n",
    "data_124['now'] = data_124['now'].map(lambda x: datetime.strptime(str(x), '%Y-%m-%d %H:%M:%S CEST'))\n",
    "data_123['now'] = data_123['now'].map(lambda x: datetime.strptime(str(x), '%Y-%m-%d %H:%M:%S CEST'))\n",
    "data_113['now'] = data_113['now'].map(lambda x: datetime.strptime(str(x), '%Y-%m-%d %H:%M:%S CEST'))"
   ]
  },
  {
   "cell_type": "code",
   "execution_count": 9,
   "metadata": {},
   "outputs": [],
   "source": [
    "t_start = datetime.strptime(\"2019-11-19 18:38:39\", \"%Y-%m-%d %H:%M:%S\")\n",
    "t_end = datetime.strptime(\"2019-11-20 02:30:00\", \"%Y-%m-%d %H:%M:%S\")\n",
    "\n",
    "# t_start_experiments = datetime.strptime(\"2019-11-19 17:38:39\", \"%Y-%m-%d %H:%M:%S\")\n",
    "# t_end_experiments = datetime.strptime(\"2019-11-20 01:30:00\", \"%Y-%m-%d %H:%M:%S\")\n",
    "# output = [58667, 54626, 55631, 52527, 30416]\n",
    "\n",
    "data_117 = data_117[(data_117['now'] >= t_start) & (data_117['now'] <= t_end)]\n",
    "data_122 = data_122[(data_122['now'] >= t_start) & (data_122['now'] <= t_end)]\n",
    "data_124 = data_124[(data_124['now'] >= t_start) & (data_124['now'] <= t_end)]\n",
    "data_123 = data_123[(data_123['now'] >= t_start) & (data_123['now'] <= t_end)]\n",
    "data_113 = data_113[(data_113['now'] >= t_start) & (data_113['now'] <= t_end)]"
   ]
  },
  {
   "cell_type": "code",
   "execution_count": 10,
   "metadata": {},
   "outputs": [
    {
     "name": "stdout",
     "output_type": "stream",
     "text": [
      "size of metrics 117 =  51614\n",
      "size of metrics 122 =  46568\n",
      "size of metrics 124 =  47518\n",
      "size of metrics 123 =  42831\n",
      "size of metrics 113 =  26228\n"
     ]
    }
   ],
   "source": [
    "print(\"size of metrics 117 = \", data_117['now'].size)\n",
    "print(\"size of metrics 122 = \", data_122['now'].size)\n",
    "print(\"size of metrics 124 = \", data_124['now'].size)\n",
    "print(\"size of metrics 123 = \", data_123['now'].size)\n",
    "print(\"size of metrics 113 = \", data_113['now'].size)"
   ]
  },
  {
   "cell_type": "code",
   "execution_count": 11,
   "metadata": {},
   "outputs": [
    {
     "data": {
      "image/png": "[encoded data removed]",
      "text/plain": [
       "<Figure size 432x288 with 1 Axes>"
      ]
     },
     "metadata": {
      "needs_background": "light"
     },
     "output_type": "display_data"
    }
   ],
   "source": [
    "x = data_113['cpu.user']\n",
    "\n",
    "plt.hist(x, bins=round((data_113['cpu.user'].size) ** (1. / 3) * 2))\n",
    "plt.xlabel('cpu.user', fontsize=14)\n",
    "\n",
    "plt.show()"
   ]
  },
  {
   "cell_type": "code",
   "execution_count": 12,
   "metadata": {},
   "outputs": [
    {
     "data": {
      "image/png": "[encoded data removed]",
      "text/plain": [
       "<Figure size 360x216 with 5 Axes>"
      ]
     },
     "metadata": {
      "needs_background": "light"
     },
     "output_type": "display_data"
    }
   ],
   "source": [
    "x1 = data_117['cpu.user']\n",
    "x2 = data_122['cpu.user']\n",
    "x3 = data_124['cpu.user']\n",
    "x4 = data_123['cpu.user']\n",
    "x5 = data_113['cpu.user']\n",
    "\n",
    "fig, (ax1, ax2, ax3, ax4, ax5) = plt.subplots(1, 5, figsize=(5,3))\n",
    "\n",
    "size = round((data_113['cpu.user'].size) ** (1. / 3) * 2) #Rice’s Rule\n",
    "\n",
    "ax1.hist(x1, bins=size, range = [5, 40])\n",
    "ax1.set_xlabel('data_117', fontsize=14)\n",
    "\n",
    "ax2.hist(x2, bins=size, range = [5, 40])\n",
    "ax2.set_xlabel('data_122', fontsize=14)\n",
    "\n",
    "ax3.hist(x3, bins=size, range = [5, 40])\n",
    "ax3.set_xlabel('data_124', fontsize=14)\n",
    "\n",
    "ax4.hist(x4, bins=size, range = [5, 40])\n",
    "ax4.set_xlabel('data_123', fontsize=14)\n",
    "\n",
    "ax5.hist(x5, bins=size, range = [5, 40])\n",
    "ax5.set_xlabel('data_113', fontsize=14)\n",
    "\n",
    "plt.subplots_adjust(right = 3)\n",
    "\n",
    "fig.suptitle(\"cpu.user\", fontsize=18, x=1.57)\n",
    "\n",
    "plt.setp([ax1, ax2, ax3, ax4, ax5], ylim=(0, 5000))\n",
    "plt.show()"
   ]
  },
  {
   "cell_type": "code",
   "execution_count": 13,
   "metadata": {},
   "outputs": [
    {
     "data": {
      "image/png": "[encoded data removed]",
      "text/plain": [
       "<Figure size 360x216 with 5 Axes>"
      ]
     },
     "metadata": {
      "needs_background": "light"
     },
     "output_type": "display_data"
    }
   ],
   "source": [
    "x1 = data_117['mem.used']\n",
    "x2 = data_122['mem.used']\n",
    "x3 = data_124['mem.used']\n",
    "x4 = data_123['mem.used']\n",
    "x5 = data_113['mem.used']\n",
    "\n",
    "fig, (ax1, ax2, ax3, ax4, ax5) = plt.subplots(1, 5, figsize=(5,3))\n",
    "\n",
    "size = round((data_113['mem.used'].size) ** (1. / 3) * 2) #Rice’s Rule\n",
    "\n",
    "ax1.hist(x1, bins=size, range = [2184286208, 5024403456])\n",
    "ax1.set_xlabel('data_117', fontsize=14)\n",
    "\n",
    "ax2.hist(x2, bins=size, range = [2184286208, 5024403456])\n",
    "ax2.set_xlabel('data_122', fontsize=14)\n",
    "\n",
    "ax3.hist(x3, bins=size, range = [2184286208, 5024403456])\n",
    "ax3.set_xlabel('data_124', fontsize=14)\n",
    "\n",
    "ax4.hist(x4, bins=size, range = [2184286208, 5024403456])\n",
    "ax4.set_xlabel('data_123', fontsize=14)\n",
    "\n",
    "ax5.hist(x5, bins=size, range = [10678829056, 15119597568])\n",
    "ax5.set_xlabel('data_113', fontsize=14)\n",
    "\n",
    "plt.subplots_adjust(right = 3)\n",
    "\n",
    "fig.suptitle(\"mem.used\", fontsize=18, x=1.57)\n",
    "\n",
    "\n",
    "plt.setp([ax1, ax2, ax3, ax4, ax5], ylim=(0, 5000))\n",
    "plt.show()"
   ]
  },
  {
   "cell_type": "code",
   "execution_count": 14,
   "metadata": {
    "scrolled": false
   },
   "outputs": [
    {
     "data": {
      "image/png": "[encoded data removed]",
      "text/plain": [
       "<Figure size 432x288 with 15 Axes>"
      ]
     },
     "metadata": {
      "needs_background": "light"
     },
     "output_type": "display_data"
    }
   ],
   "source": [
    "x1_0 = data_117['load.min1']\n",
    "x1_1 = data_117['load.min5']\n",
    "x1_2 = data_117['load.min15']\n",
    "\n",
    "x2_0 = data_122['load.min1']\n",
    "x2_1 = data_122['load.min5']\n",
    "x2_2 = data_122['load.min15']\n",
    "\n",
    "x3_0 = data_124['load.min1']\n",
    "x3_1 = data_124['load.min5']\n",
    "x3_2 = data_124['load.min15']\n",
    "\n",
    "x4_0 = data_123['load.min1']\n",
    "x4_1 = data_123['load.min5']\n",
    "x4_2 = data_123['load.min15']\n",
    "\n",
    "x5_0 = data_113['load.min1']\n",
    "x5_1 = data_113['load.min5']\n",
    "x5_2 = data_113['load.min15']\n",
    "\n",
    "fig, axes = plt.subplots(5, 3, figsize=(6,4))\n",
    "\n",
    "size = round((data_113['load.min1'].size) ** (1. / 3) * 2) #Rice’s Rule\n",
    "\n",
    "axes[0, 0].hist(x1_0, bins=size, range = [1, 5])\n",
    "axes[0, 0].set_xlabel('load.min1', fontsize=12)\n",
    "axes[0, 1].hist(x1_1, bins=size, range = [1, 5])\n",
    "axes[0, 1].set_xlabel('load.min5', fontsize=12)\n",
    "axes[0, 2].hist(x1_2, bins=size, range = [1, 5])\n",
    "axes[0, 2].set_xlabel('load.min15', fontsize=12)\n",
    "plt.setp([axes[0, 0], axes[0, 1], axes[0, 2]], ylim=(0, 6000))\n",
    "axes[0, 0].set_title(\"data_117\", fontsize=18, x=1.7)\n",
    "\n",
    "axes[1, 0].hist(x2_0, bins=size, range = [1, 5])\n",
    "axes[1, 0].set_xlabel('load.min1', fontsize=12)\n",
    "axes[1, 1].hist(x2_1, bins=size, range = [1, 5])\n",
    "axes[1, 1].set_xlabel('load.min5', fontsize=12)\n",
    "axes[1, 2].hist(x2_2, bins=size, range = [1, 5])\n",
    "axes[1, 2].set_xlabel('load.min15', fontsize=12)\n",
    "plt.setp([axes[1, 0], axes[1, 1], axes[1, 2]], ylim=(0, 6000))\n",
    "axes[1, 0].set_title(\"data_122\", fontsize=18, x=1.7)\n",
    "\n",
    "axes[2, 0].hist(x3_0, bins=size, range = [1, 5])\n",
    "axes[2, 0].set_xlabel('load.min1', fontsize=12)\n",
    "axes[2, 1].hist(x3_1, bins=size, range = [1, 5])\n",
    "axes[2, 1].set_xlabel('load.min5', fontsize=12)\n",
    "axes[2, 2].hist(x3_2, bins=size, range = [1, 5])\n",
    "axes[2, 2].set_xlabel('load.min15', fontsize=12)\n",
    "plt.setp([axes[2, 0], axes[2, 1], axes[2, 2]], ylim=(0, 6000))\n",
    "axes[2, 0].set_title(\"data_124\", fontsize=18, x=1.7)\n",
    "\n",
    "axes[3, 0].hist(x4_0, bins=size, range = [1, 5])\n",
    "axes[3, 0].set_xlabel('load.min1', fontsize=12)\n",
    "axes[3, 1].hist(x4_1, bins=size, range = [1, 5])\n",
    "axes[3, 1].set_xlabel('load.min5', fontsize=12)\n",
    "axes[3, 2].hist(x4_2, bins=size, range = [1, 5])\n",
    "axes[3, 2].set_xlabel('load.min15', fontsize=12)\n",
    "plt.setp([axes[3, 0], axes[3, 1], axes[3, 2]], ylim=(0, 6000))\n",
    "axes[3, 0].set_title(\"data_123\", fontsize=18, x=1.7)\n",
    "\n",
    "axes[4, 0].hist(x5_0, bins=size, range = [1, 5])\n",
    "axes[4, 0].set_xlabel('load.min1', fontsize=12)\n",
    "axes[4, 1].hist(x5_1, bins=size, range = [1, 5])\n",
    "axes[4, 1].set_xlabel('load.min5', fontsize=12)\n",
    "axes[4, 2].hist(x5_2, bins=size, range = [1, 5])\n",
    "axes[4, 2].set_xlabel('load.min15', fontsize=12)\n",
    "plt.setp([axes[4, 0], axes[4, 1], axes[4, 2]], ylim=(0, 6000))\n",
    "axes[4, 0].set_title(\"data_113\", fontsize=18, x=1.7)\n",
    "\n",
    "plt.subplots_adjust(top = 6.5, right = 2.5)\n",
    "\n",
    "plt.show()\n"
   ]
  },
  {
   "cell_type": "markdown",
   "metadata": {},
   "source": [
    "# Correlation"
   ]
  },
  {
   "cell_type": "code",
   "execution_count": 15,
   "metadata": {},
   "outputs": [],
   "source": [
    "res_117 = data_117.drop_duplicates(subset=['now'], keep='first')\n",
    "res_122 = data_122.drop_duplicates(subset=['now'], keep='first')\n",
    "res_124 = data_124.drop_duplicates(subset=['now'], keep='first')\n",
    "res_123 = data_123.drop_duplicates(subset=['now'], keep='first')\n",
    "res_113 = data_113.drop_duplicates(subset=['now'], keep='first')"
   ]
  },
  {
   "cell_type": "code",
   "execution_count": 16,
   "metadata": {},
   "outputs": [
    {
     "name": "stdout",
     "output_type": "stream",
     "text": [
      "size of metrics 117 =  28280\n",
      "size of metrics 122 =  28279\n",
      "size of metrics 124 =  28280\n",
      "size of metrics 123 =  28280\n",
      "size of metrics 113 =  23206\n"
     ]
    }
   ],
   "source": [
    "print(\"size of metrics 117 = \", res_117['now'].size)\n",
    "print(\"size of metrics 122 = \", res_122['now'].size)\n",
    "print(\"size of metrics 124 = \", res_124['now'].size)\n",
    "print(\"size of metrics 123 = \", res_123['now'].size)\n",
    "print(\"size of metrics 113 = \", res_113['now'].size)"
   ]
  },
  {
   "cell_type": "code",
   "execution_count": 17,
   "metadata": {},
   "outputs": [
    {
     "name": "stdout",
     "output_type": "stream",
     "text": [
      "The number of different rows between 117 and 122:  5\n"
     ]
    }
   ],
   "source": [
    "diff_rows = res_117['now'].isin(res_122['now']).value_counts()[0] + res_122['now'].isin(res_117['now']).value_counts()[0]\n",
    "\n",
    "print('The number of different rows between 117 and 122: ', diff_rows) \n",
    "\n",
    "# 2019-11-19 23:52:06\n",
    "# 2019-11-20 01:00:12\n",
    "# 2019-11-19 20:29:36\n",
    "# 2019-11-20 00:59:53\n",
    "# 2019-11-20 01:00:10"
   ]
  },
  {
   "cell_type": "code",
   "execution_count": 18,
   "metadata": {},
   "outputs": [],
   "source": [
    "keys = list(data_117.keys())\n",
    "keys.remove('now')\n",
    "keys.remove('load.cpucore')"
   ]
  },
  {
   "cell_type": "code",
   "execution_count": 21,
   "metadata": {
    "scrolled": false
   },
   "outputs": [
    {
     "name": "stdout",
     "output_type": "stream",
     "text": [
      "The Pearson correlation of data_117 between cpu.user and mem.used = 0.16292288992966747\n",
      "The Pearson correlation of data_117 between cpu.user and load.min1 = 0.21837625402608787\n",
      "The Pearson correlation of data_117 between cpu.user and load.min5 = 0.2220826611206467\n",
      "The Pearson correlation of data_117 between cpu.user and load.min15 = 0.2106207046971244\n",
      "The Pearson correlation of data_117 between mem.used and load.min1 = 0.6411522037571468\n",
      "The Pearson correlation of data_117 between mem.used and load.min5 = 0.6698791219808647\n",
      "The Pearson correlation of data_117 between mem.used and load.min15 = 0.6645599762828691\n",
      "The Pearson correlation of data_117 between load.min1 and load.min5 = 0.9534298340318627\n",
      "The Pearson correlation of data_117 between load.min1 and load.min15 = 0.8887901149183776\n",
      "The Pearson correlation of data_117 between load.min5 and load.min15 = 0.9705182583010808\n",
      "\n",
      "The Pearson correlation of data_122 between cpu.user and mem.used = 0.14763099397313376\n",
      "The Pearson correlation of data_122 between cpu.user and load.min1 = 0.2893420755915399\n",
      "The Pearson correlation of data_122 between cpu.user and load.min5 = 0.29475932355753626\n",
      "The Pearson correlation of data_122 between cpu.user and load.min15 = 0.27669347204181294\n",
      "The Pearson correlation of data_122 between mem.used and load.min1 = 0.5823981281711481\n",
      "The Pearson correlation of data_122 between mem.used and load.min5 = 0.5921438471229955\n",
      "The Pearson correlation of data_122 between mem.used and load.min15 = 0.5587202811300812\n",
      "The Pearson correlation of data_122 between load.min1 and load.min5 = 0.9466273339579011\n",
      "The Pearson correlation of data_122 between load.min1 and load.min15 = 0.8740577806978255\n",
      "The Pearson correlation of data_122 between load.min5 and load.min15 = 0.9673843750883746\n",
      "\n",
      "The Pearson correlation of data_124 between cpu.user and mem.used = 0.15859485986104843\n",
      "The Pearson correlation of data_124 between cpu.user and load.min1 = 0.26261300683992117\n",
      "The Pearson correlation of data_124 between cpu.user and load.min5 = 0.2751665875012279\n",
      "The Pearson correlation of data_124 between cpu.user and load.min15 = 0.2616345622704714\n",
      "The Pearson correlation of data_124 between mem.used and load.min1 = 0.6294350691396522\n",
      "The Pearson correlation of data_124 between mem.used and load.min5 = 0.7063374865676277\n",
      "The Pearson correlation of data_124 between mem.used and load.min15 = 0.7332350444669846\n",
      "The Pearson correlation of data_124 between load.min1 and load.min5 = 0.9376598799652646\n",
      "The Pearson correlation of data_124 between load.min1 and load.min15 = 0.8626018552226445\n",
      "The Pearson correlation of data_124 between load.min5 and load.min15 = 0.966241219794269\n",
      "\n",
      "The Pearson correlation of data_123 between cpu.user and mem.used = 0.16871749912832038\n",
      "The Pearson correlation of data_123 between cpu.user and load.min1 = 0.2040155751364069\n",
      "The Pearson correlation of data_123 between cpu.user and load.min5 = 0.19900329777755768\n",
      "The Pearson correlation of data_123 between cpu.user and load.min15 = 0.1869070777293249\n",
      "The Pearson correlation of data_123 between mem.used and load.min1 = 0.4315033612712896\n",
      "The Pearson correlation of data_123 between mem.used and load.min5 = 0.4754283498676072\n",
      "The Pearson correlation of data_123 between mem.used and load.min15 = 0.481359420339181\n",
      "The Pearson correlation of data_123 between load.min1 and load.min5 = 0.9456290170766658\n",
      "The Pearson correlation of data_123 between load.min1 and load.min15 = 0.8803927539635441\n",
      "The Pearson correlation of data_123 between load.min5 and load.min15 = 0.9711341436040507\n",
      "\n",
      "The Pearson correlation of data_113 between cpu.user and mem.used = -0.08636290677152067\n",
      "The Pearson correlation of data_113 between cpu.user and load.min1 = 0.5886111823424849\n",
      "The Pearson correlation of data_113 between cpu.user and load.min5 = 0.5306868096968763\n",
      "The Pearson correlation of data_113 between cpu.user and load.min15 = 0.41527490170712955\n",
      "The Pearson correlation of data_113 between mem.used and load.min1 = -0.04271241402819259\n",
      "The Pearson correlation of data_113 between mem.used and load.min5 = -0.0037805818569832837\n",
      "The Pearson correlation of data_113 between mem.used and load.min15 = 0.04400866255175477\n",
      "The Pearson correlation of data_113 between load.min1 and load.min5 = 0.8499146014464707\n",
      "The Pearson correlation of data_113 between load.min1 and load.min15 = 0.6428048064792742\n",
      "The Pearson correlation of data_113 between load.min5 and load.min15 = 0.8964391639227984\n",
      "\n"
     ]
    }
   ],
   "source": [
    "nodes = [data_117, data_122, data_124, data_123, data_113]\n",
    "nodes_names = ['data_117', 'data_122', 'data_124', 'data_123', 'data_113']\n",
    "\n",
    "for k in range(len(nodes)):\n",
    "    for i in range(len(keys) - 1):\n",
    "        for j in range(i + 1, len(keys)):\n",
    "            print('The Pearson correlation of', nodes_names[k], 'between', keys[i], 'and', keys[j], '=', nodes[k][keys[i]].corr(nodes[k][keys[j]]))\n",
    "    print()"
   ]
  },
  {
   "cell_type": "code",
   "execution_count": null,
   "metadata": {},
   "outputs": [],
   "source": []
  }
 ],
 "metadata": {
  "kernelspec": {
   "display_name": "Python 3",
   "language": "python",
   "name": "python3"
  },
  "language_info": {
   "codemirror_mode": {
    "name": "ipython",
    "version": 3
   },
   "file_extension": ".py",
   "mimetype": "text/x-python",
   "name": "python",
   "nbconvert_exporter": "python",
   "pygments_lexer": "ipython3",
   "version": "3.9.0"
  }
 },
 "nbformat": 4,
 "nbformat_minor": 2
}
